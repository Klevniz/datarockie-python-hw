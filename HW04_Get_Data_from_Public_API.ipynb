{
  "nbformat": 4,
  "nbformat_minor": 0,
  "metadata": {
    "colab": {
      "provenance": [],
      "authorship_tag": "ABX9TyMyq/BJCyj2oi8nayW6j4Sv",
      "include_colab_link": true
    },
    "kernelspec": {
      "name": "python3",
      "display_name": "Python 3"
    },
    "language_info": {
      "name": "python"
    }
  },
  "cells": [
    {
      "cell_type": "markdown",
      "metadata": {
        "id": "view-in-github",
        "colab_type": "text"
      },
      "source": [
        "<a href=\"https://colab.research.google.com/github/Klevniz/datarockie-python-hw/blob/main/HW04_Get_Data_from_Public_API.ipynb\" target=\"_parent\"><img src=\"https://colab.research.google.com/assets/colab-badge.svg\" alt=\"Open In Colab\"/></a>"
      ]
    },
    {
      "cell_type": "code",
      "execution_count": 35,
      "metadata": {
        "colab": {
          "base_uri": "https://localhost:8080/"
        },
        "id": "z_mdGjzkFaXe",
        "outputId": "bce9137b-e006-40fa-aba2-6fc8502b0b29"
      },
      "outputs": [
        {
          "output_type": "execute_result",
          "data": {
            "text/plain": [
              "[{'ID': 89, 'Name': 'muk', 'Type 1': 'poison', 'Type 2': 'null'},\n",
              " {'ID': 24, 'Name': 'arbok', 'Type 1': 'poison', 'Type 2': 'null'},\n",
              " {'ID': 25, 'Name': 'pikachu', 'Type 1': 'electric', 'Type 2': 'null'},\n",
              " {'ID': 128, 'Name': 'tauros', 'Type 1': 'normal', 'Type 2': 'null'},\n",
              " {'ID': 103, 'Name': 'exeggutor', 'Type 1': 'grass', 'Type 2': 'psychic'}]"
            ]
          },
          "metadata": {},
          "execution_count": 35
        }
      ],
      "source": [
        "#HW04 Get Data from Public API\n",
        "#Random 5 pokemons from 1st generation\n",
        "import requests\n",
        "import time\n",
        "import random\n",
        "\n",
        "id = []\n",
        "\n",
        "for x in range(5):\n",
        "  id.append(random.randrange(1,151))\n",
        "\n",
        "characters = []\n",
        "\n",
        "for y in id:\n",
        "  url = f\"https://pokeapi.co/api/v2/pokemon/{y}\"\n",
        "  response = requests.get(url)\n",
        "\n",
        "  if response.status_code == 200:\n",
        "    pokemon = response.json()\n",
        "    type2 = \"\"\n",
        "    if len(pokemon[\"types\"]) > 1:\n",
        "      type2 = pokemon[\"types\"][1][\"type\"][\"name\"]\n",
        "    else:\n",
        "      type2 = \"null\"\n",
        "    pokemon_info = {\n",
        "        \"ID\" : pokemon[\"id\"],\n",
        "        \"Name\" : pokemon[\"name\"],\n",
        "        \"Type 1\" : pokemon[\"types\"][0][\"type\"][\"name\"],\n",
        "        \"Type 2\" : type2\n",
        "        }\n",
        "    characters.append(pokemon_info)\n",
        "\n",
        "  time.sleep(1)\n",
        "\n",
        "\n",
        "characters\n"
      ]
    }
  ]
}