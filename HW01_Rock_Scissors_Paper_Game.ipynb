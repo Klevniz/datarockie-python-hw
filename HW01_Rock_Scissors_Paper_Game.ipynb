{
  "nbformat": 4,
  "nbformat_minor": 0,
  "metadata": {
    "colab": {
      "provenance": [],
      "authorship_tag": "ABX9TyNEdlZUEjQzdGdBpMsIJhXm",
      "include_colab_link": true
    },
    "kernelspec": {
      "name": "python3",
      "display_name": "Python 3"
    },
    "language_info": {
      "name": "python"
    }
  },
  "cells": [
    {
      "cell_type": "markdown",
      "metadata": {
        "id": "view-in-github",
        "colab_type": "text"
      },
      "source": [
        "<a href=\"https://colab.research.google.com/github/Klevniz/datarockie-python-hw/blob/main/HW01_Rock_Scissors_Paper_Game.ipynb\" target=\"_parent\"><img src=\"https://colab.research.google.com/assets/colab-badge.svg\" alt=\"Open In Colab\"/></a>"
      ]
    },
    {
      "cell_type": "code",
      "execution_count": 7,
      "metadata": {
        "id": "7078pG7h9Cyt"
      },
      "outputs": [],
      "source": [
        "#HW 01 Rock Scissors Paper Game\n",
        "import random\n",
        "def rsp_game():\n",
        "    gesture = ['Rock','Scissors','Paper']\n",
        "    tie = 0\n",
        "    win = 0\n",
        "    lose = 0\n",
        "    play = 'Y'\n",
        "    while play == 'Y':\n",
        "        gesture = ['Rock','Scissors','Paper']\n",
        "        player_gesture = input(\"Please choose between Rock, Scissors or Paper: \")\n",
        "        while player_gesture not in gesture:\n",
        "            player_gesture = input(\"Please select only Rock Scissors or Paper: \")\n",
        "        com_gesture = gesture[random.randrange(1,3)]\n",
        "        print(f\"Computer Gesture : {com_gesture}\")\n",
        "        if player_gesture == com_gesture:\n",
        "            print(\"It's a tie game\")\n",
        "            tie = tie + 1\n",
        "        elif player_gesture==\"Rock\" and com_gesture ==\"Scissors\":\n",
        "            print(\"You win\")\n",
        "            win = win + 1\n",
        "        elif player_gesture==\"Scissors\" and com_gesture ==\"Paper\":\n",
        "            print(\"You win\")\n",
        "            win = win + 1\n",
        "        elif player_gesture==\"Paper\" and com_gesture ==\"Rock\":\n",
        "            print(\"You win\")\n",
        "            win = win + 1\n",
        "        else:\n",
        "            print(\"You lose\")\n",
        "            lose = lose + 1\n",
        "        play = input(\"Do you want to continue? Y/N \").upper()\n",
        "        while play not in ['Y','N']:\n",
        "            play = input(\"Please choose only Y/N to continue or not \").upper()\n",
        "    print(f\"You game statistic Win : {win} Lose : {lose} Tie: {tie}\")"
      ]
    },
    {
      "cell_type": "code",
      "source": [
        "rsp_game()"
      ],
      "metadata": {
        "colab": {
          "base_uri": "https://localhost:8080/"
        },
        "id": "eV6fALmi9P21",
        "outputId": "4ad8ca1c-d876-418e-da95-46fc448d669d"
      },
      "execution_count": 8,
      "outputs": [
        {
          "output_type": "stream",
          "name": "stdout",
          "text": [
            "Please choose between Rock, Scissors or Paper: Rock\n",
            "Computer Gesture : Paper\n",
            "You lose\n",
            "Do you want to continue? Y/N Y\n",
            "Please choose between Rock, Scissors or Paper: Scissors\n",
            "Computer Gesture : Paper\n",
            "You win\n",
            "Do you want to continue? Y/N Y\n",
            "Please choose between Rock, Scissors or Paper: Paper\n",
            "Computer Gesture : Scissors\n",
            "You lose\n",
            "Do you want to continue? Y/N Y\n",
            "Please choose between Rock, Scissors or Paper: Paper\n",
            "Computer Gesture : Paper\n",
            "It's a tie game\n",
            "Do you want to continue? Y/N N\n",
            "You game statistic Win : 1 Lose : 2 Tie: 1\n"
          ]
        }
      ]
    }
  ]
}